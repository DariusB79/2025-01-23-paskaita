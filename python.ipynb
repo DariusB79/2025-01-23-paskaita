{
 "cells": [
  {
   "cell_type": "code",
   "execution_count": 1,
   "metadata": {},
   "outputs": [
    {
     "name": "stdout",
     "output_type": "stream",
     "text": [
      "c:\\Users\\HP\\OneDrive\\Desktop\\Phyton mokymai\\Paskaitos\\Automatizavimas\\2025-01-23-paskaita\n"
     ]
    }
   ],
   "source": [
    "import os\n",
    "\n",
    "c = os.getcwd()  # gauti dabartinę vieta\n",
    "print(c)"
   ]
  },
  {
   "cell_type": "code",
   "execution_count": 13,
   "metadata": {},
   "outputs": [],
   "source": [
    "import os\n",
    "\n",
    "os.mkdir(\"./projects\")\n",
    "os.mkdir(\"./projects/data\")\n",
    "os.mkdir(\"./projects/scripts\")\n",
    "os.mkdir(\"./projects/logs\")\n",
    "\n",
    "with open(\"./projects/README.md\", \"w\") as file:\n",
    "    file.write(\"Duomenu irasymui : \")\n"
   ]
  }
 ],
 "metadata": {
  "kernelspec": {
   "display_name": "Python 3",
   "language": "python",
   "name": "python3"
  },
  "language_info": {
   "codemirror_mode": {
    "name": "ipython",
    "version": 3
   },
   "file_extension": ".py",
   "mimetype": "text/x-python",
   "name": "python",
   "nbconvert_exporter": "python",
   "pygments_lexer": "ipython3",
   "version": "3.13.0"
  }
 },
 "nbformat": 4,
 "nbformat_minor": 2
}
